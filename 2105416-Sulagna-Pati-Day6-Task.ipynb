{
 "cells": [
  {
   "cell_type": "markdown",
   "id": "078fff1f",
   "metadata": {},
   "source": [
    "## Task- 6 Project Data"
   ]
  },
  {
   "cell_type": "markdown",
   "id": "32617aba",
   "metadata": {},
   "source": [
    "**Q1. Write down 10 projects ideas you want to implement using python**\n",
    "\n",
    "1. Mad Libs Generator\n",
    "2. Number Guessing\n",
    "3. Text-based Adventure Game\n",
    "4. Dice Rolling Simulator\n",
    "5. Hangman\n",
    "6. Contact Book\n",
    "7. Binary search algorithm\n",
    "8. Desktop Notifier App\n",
    "9. Python Story Generator\n",
    "10. Python Website Blocker"
   ]
  },
  {
   "cell_type": "markdown",
   "id": "49c257ae",
   "metadata": {},
   "source": [
    "**Q2. Create at list 5 objects using list, dictionary, it will be good if you store realistic data**\n",
    "\n",
    "1. A list of names of people who work in a company.\n",
    "\n",
    "        employees = ['Jungkook', 'Taehyung', 'Jimin', 'Jhope']\n",
    "\n",
    "2. A dictionary of people’s names and their ages.\n",
    "\n",
    "        people = {'Jungkook': 26, 'Taehyung': 28, 'Jimin': 28, 'Jhope': 29}\n",
    "\n",
    "3. A list of dictionaries containing information about people.\n",
    "\n",
    "        People_info = [{'name': 'Jungkook', 'age': 26, 'gender': 'male'},\n",
    "               {'name': 'Taehyung', 'age': 28, 'gender': 'male'},\n",
    "               {'name': 'Jimin', 'age': 28, 'gender': 'male'},\n",
    "               {'name': 'Jhope', 'age': 29, 'gender': 'male'}]\n",
    "               \n",
    "4. A dictionary of lists containing information about people.\n",
    "\n",
    "        People_info = {'names': ['Jungkook', 'Taehyung', 'Jimin', 'Jhope'],\n",
    "               'ages': [26, 28, 28, 29],\n",
    "               'genders': ['male', 'male', 'male', 'male']}\n",
    "               \n",
    "5. A list of dictionaries containing information about books.\n",
    "\n",
    "        books = [{'title': 'The Great Gatsby', 'author': 'F. Scott Fitzgerald', \n",
    "          'year_published': 1925},\n",
    "         {'title': \"To Kill a Mockingbird\", 'author': \"Harper Lee\", \n",
    "          'year_published': 1960},\n",
    "         {'title': \"1984\", 'author': \"George Orwell\", \n",
    "          'year_published': 1949},\n",
    "         {'title': \"Pride and Prejudice\", 'author': \"Jane Austen\", \n",
    "          'year_published': 1813}]\n"
   ]
  },
  {
   "cell_type": "markdown",
   "id": "e38c2609",
   "metadata": {},
   "source": [
    "**Q3. What is duck typing in python, what are Dunder or special methods?**\n",
    "\n",
    "    It means the data types of variables can change as long as the syntax is compatible.\n",
    "**Dunder methods** are methods that allow instances of a class to interact with the built-in functions and operators of the language.\n",
    "           \n",
    "           Ex -> __add__, __str__"
   ]
  },
  {
   "cell_type": "markdown",
   "id": "ccd5c077",
   "metadata": {},
   "source": [
    "**Q4. What are operators? How many types of operators are there in python?**\n",
    "\n",
    "Operators are special symbols that designate that some sort of computation should be performed.\n",
    "\n",
    "There are 9 types of operators in python:-\n",
    " 1. Assignment \n",
    " 2. Relational\n",
    " 3. Logical\n",
    " 4. Arithmetic\n",
    " 5. Membership\n",
    " 6. Identity\n",
    " 7. Bitwise\n",
    " 8. Shift \n",
    " 9. Unary"
   ]
  }
 ],
 "metadata": {
  "kernelspec": {
   "display_name": "Python 3 (ipykernel)",
   "language": "python",
   "name": "python3"
  },
  "language_info": {
   "codemirror_mode": {
    "name": "ipython",
    "version": 3
   },
   "file_extension": ".py",
   "mimetype": "text/x-python",
   "name": "python",
   "nbconvert_exporter": "python",
   "pygments_lexer": "ipython3",
   "version": "3.10.9"
  }
 },
 "nbformat": 4,
 "nbformat_minor": 5
}
