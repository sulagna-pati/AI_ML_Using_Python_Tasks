{
 "cells": [
  {
   "cell_type": "code",
   "execution_count": null,
   "id": "3027c738",
   "metadata": {},
   "outputs": [],
   "source": [
    "import numpy as np\n",
    "\n",
    "import matplotlib.pyplot as plt\n",
    "\n",
    "plt.figure(dpi=200)\n",
    "\n",
    "height = np.random.normal(140, 20, 1000) \n",
    "plt.ylabel(\"Frequency\") \n",
    "plt.hist(height, bins=30, ec=\"gold\")\n",
    "\n",
    "plt.title(\"Height Distribuion\") \n",
    "plt.xlabel(\"Height (cm) \")"
   ]
  },
  {
   "cell_type": "code",
   "execution_count": null,
   "id": "22a83f4f",
   "metadata": {},
   "outputs": [],
   "source": [
    "#Compilers produce standalone executables by translating the entire source code in advance, while interpreters execute code \n",
    "#line by line without generating a separate executable. \n",
    "#Compilers provide faster execution and more comprehensive error checking, while interpreters offer greater flexibility \n",
    "#and easier development workflows."
   ]
  },
  {
   "cell_type": "code",
   "execution_count": null,
   "id": "5b4e4cda",
   "metadata": {},
   "outputs": [],
   "source": [
    "#A data structure is a way of organizing and storing data in a computer program. \n",
    "#It defines the relationships between the data elements, the operations that can be performed on them, and the rules for accessing and manipulating the data.\n",
    "#Data structures are essential in programs because they enable efficient data storage, organization, algorithm design, code modularity, data integrity, scalability, flexibility, and code readability.\n",
    "#They provide a foundation for effective data management and manipulation, leading to more efficient and reliable software solutions."
   ]
  }
 ],
 "metadata": {
  "kernelspec": {
   "display_name": "Python 3 (ipykernel)",
   "language": "python",
   "name": "python3"
  },
  "language_info": {
   "codemirror_mode": {
    "name": "ipython",
    "version": 3
   },
   "file_extension": ".py",
   "mimetype": "text/x-python",
   "name": "python",
   "nbconvert_exporter": "python",
   "pygments_lexer": "ipython3",
   "version": "3.10.9"
  }
 },
 "nbformat": 4,
 "nbformat_minor": 5
}
