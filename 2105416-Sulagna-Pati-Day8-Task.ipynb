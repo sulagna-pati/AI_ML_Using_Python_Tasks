{
 "cells": [
  {
   "cell_type": "code",
   "execution_count": null,
   "id": "adb57d39",
   "metadata": {},
   "outputs": [],
   "source": [
    "#the Boolean data type represents a logical value that can have one of two possible states: True or False. \n",
    "#These values are used to express truth or falsehood in logical expressions or conditions. \n",
    "#In Python, the Boolean values True and False are written exactly as shown, with the first letter capitalized. \n",
    "#It's important to note that these values are keywords in Python and cannot be used as variable names or reassigned."
   ]
  },
  {
   "cell_type": "code",
   "execution_count": null,
   "id": "7ba64bd1",
   "metadata": {},
   "outputs": [],
   "source": [
    "#The three Boolean operators are:\n",
    "\n",
    "#and Operator:\n",
    "#The and operator returns True if both operands are True.\n",
    "#If any of the operands is False, the and operator returns False.\n",
    "#Example: True and False returns False, True and True returns True.\n",
    "\n",
    "#or Operator:\n",
    "#The or operator returns True if at least one of the operands is True.\n",
    "#If both operands are False, the or operator returns False.\n",
    "#Example: True or False returns True, False or False returns False.\n",
    "\n",
    "#not Operator:\n",
    "#The not operator returns the opposite of the operand's Boolean value.\n",
    "#If the operand is True, the not operator returns False.\n",
    "#If the operand is False, the not operator returns True.\n",
    "#Example: not True returns False, not False returns True."
   ]
  },
  {
   "cell_type": "code",
   "execution_count": null,
   "id": "7388d637",
   "metadata": {},
   "outputs": [],
   "source": [
    "Truth Table for and Operator:\n",
    "\n",
    "Operand 1\tOperand 2\tResult\n",
    "False\tFalse\tFalse\n",
    "False\tTrue\tFalse\n",
    "True\tFalse\tFalse\n",
    "True\tTrue\tTrue\n",
    "Truth Table for or Operator:\n",
    "\n",
    "Operand 1\tOperand 2\tResult\n",
    "False\tFalse\tFalse\n",
    "False\tTrue\tTrue\n",
    "True\tFalse\tTrue\n",
    "True\tTrue\tTrue\n",
    "Truth Table for not Operator:\n",
    "\n",
    "Operand\tResult\n",
    "False\tTrue\n",
    "True\tFalse\n",
    "These truth tables demonstrate the resulting Boolean values when applying the respective Boolean operators to different combinations of Boolean operands."
   ]
  },
  {
   "cell_type": "code",
   "execution_count": 1,
   "id": "45338b7f",
   "metadata": {},
   "outputs": [
    {
     "data": {
      "text/plain": [
       "False"
      ]
     },
     "execution_count": 1,
     "metadata": {},
     "output_type": "execute_result"
    }
   ],
   "source": [
    "(5 > 4) and (3 == 5) "
   ]
  },
  {
   "cell_type": "code",
   "execution_count": 3,
   "id": "1fdd3f79",
   "metadata": {},
   "outputs": [
    {
     "data": {
      "text/plain": [
       "False"
      ]
     },
     "execution_count": 3,
     "metadata": {},
     "output_type": "execute_result"
    }
   ],
   "source": [
    "not (5 > 4) "
   ]
  },
  {
   "cell_type": "code",
   "execution_count": 4,
   "id": "0dc02183",
   "metadata": {},
   "outputs": [
    {
     "data": {
      "text/plain": [
       "True"
      ]
     },
     "execution_count": 4,
     "metadata": {},
     "output_type": "execute_result"
    }
   ],
   "source": [
    "(5 > 4) or (3 == 5) "
   ]
  },
  {
   "cell_type": "code",
   "execution_count": 5,
   "id": "24ce78e2",
   "metadata": {},
   "outputs": [
    {
     "data": {
      "text/plain": [
       "False"
      ]
     },
     "execution_count": 5,
     "metadata": {},
     "output_type": "execute_result"
    }
   ],
   "source": [
    "not ((5 > 4) or (3 == 5)) "
   ]
  },
  {
   "cell_type": "code",
   "execution_count": 6,
   "id": "de03096a",
   "metadata": {},
   "outputs": [
    {
     "data": {
      "text/plain": [
       "False"
      ]
     },
     "execution_count": 6,
     "metadata": {},
     "output_type": "execute_result"
    }
   ],
   "source": [
    "(True and True) and (True == False) "
   ]
  },
  {
   "cell_type": "code",
   "execution_count": 7,
   "id": "775f640a",
   "metadata": {},
   "outputs": [
    {
     "data": {
      "text/plain": [
       "True"
      ]
     },
     "execution_count": 7,
     "metadata": {},
     "output_type": "execute_result"
    }
   ],
   "source": [
    "(not False) or (not True) "
   ]
  },
  {
   "cell_type": "code",
   "execution_count": null,
   "id": "3cc4b42a",
   "metadata": {},
   "outputs": [],
   "source": [
    "Equal to (==):\n",
    "\n",
    "The equal to operator checks if two values are equal.\n",
    "It returns True if the operands are equal, and False otherwise.\n",
    "Example: 5 == 5 returns True, 3 == 7 returns False.\n",
    "Not equal to (!=):\n",
    "\n",
    "The not equal to operator checks if two values are not equal.\n",
    "It returns True if the operands are not equal, and False if they are equal.\n",
    "Example: 5 != 5 returns False, 3 != 7 returns True.\n",
    "Greater than (>):\n",
    "\n",
    "The greater than operator checks if the left operand is greater than the right operand.\n",
    "It returns True if the left operand is greater, and False otherwise.\n",
    "Example: 7 > 5 returns True, 3 > 7 returns False.\n",
    "Less than (<):\n",
    "\n",
    "The less than operator checks if the left operand is less than the right operand.\n",
    "It returns True if the left operand is less, and False otherwise.\n",
    "Example: 5 < 7 returns True, 7 < 3 returns False.\n",
    "Greater than or equal to (>=):\n",
    "\n",
    "The greater than or equal to operator checks if the left operand is greater than or equal to the right operand.\n",
    "It returns True if the left operand is greater than or equal, and False otherwise.\n",
    "Example: 7 >= 5 returns True, 3 >= 7 returns False.\n",
    "Less than or equal to (<=):\n",
    "\n",
    "The less than or equal to operator checks if the left operand is less than or equal to the right operand.\n",
    "It returns True if the left operand is less than or equal, and False otherwise.\n",
    "Example: 5 <= 7 returns True, 7 <= 3 returns False."
   ]
  },
  {
   "cell_type": "code",
   "execution_count": null,
   "id": "9fb5ddcc",
   "metadata": {},
   "outputs": [],
   "source": [
    "#the equal to operator (==) is used for comparisons and equality checks, while the assignment operator (=) is used to assign values to variables. \n",
    "#It's important to differentiate between the two operators to avoid confusion and ensure correct usage in programming."
   ]
  },
  {
   "cell_type": "code",
   "execution_count": null,
   "id": "139da956",
   "metadata": {},
   "outputs": [],
   "source": [
    "#In programming, a condition refers to a statement or an expression that evaluates to either true or false. It is used to make decisions and control the flow of a program based on different situations.\n",
    "#Conditions are typically used in conjunction with conditional statements, such as if statements, to determine the execution of specific blocks of code."
   ]
  }
 ],
 "metadata": {
  "kernelspec": {
   "display_name": "Python 3 (ipykernel)",
   "language": "python",
   "name": "python3"
  },
  "language_info": {
   "codemirror_mode": {
    "name": "ipython",
    "version": 3
   },
   "file_extension": ".py",
   "mimetype": "text/x-python",
   "name": "python",
   "nbconvert_exporter": "python",
   "pygments_lexer": "ipython3",
   "version": "3.10.9"
  }
 },
 "nbformat": 4,
 "nbformat_minor": 5
}
