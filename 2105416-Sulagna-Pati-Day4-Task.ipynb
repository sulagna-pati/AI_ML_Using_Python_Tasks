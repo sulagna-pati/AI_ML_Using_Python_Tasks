{
 "cells": [
  {
   "cell_type": "markdown",
   "id": "d7debc6e",
   "metadata": {},
   "source": [
    "### Task- 4 String Method"
   ]
  },
  {
   "cell_type": "markdown",
   "id": "9d5bb7d3",
   "metadata": {},
   "source": [
    "**Q1.Explore split, strip, replace, center, title methods of string data type in python**"
   ]
  },
  {
   "cell_type": "code",
   "execution_count": 1,
   "id": "f367e7d4",
   "metadata": {},
   "outputs": [
    {
     "name": "stdout",
     "output_type": "stream",
     "text": [
      "['hii', 'friends,', 'i', 'am', 'sulagna']\n",
      "hii friends, i am sulagna\n",
      "     hii friends, i am lana     \n",
      "                                     hii friends, i am sulagna                                      \n",
      "     Hii Friends, I Am Sulagna     \n"
     ]
    }
   ],
   "source": [
    "str = '     hii friends, i am sulagna     '\n",
    "\n",
    "print(str.split()) #Return a list of the words in the string, using separated as the delimiter string\n",
    "\n",
    "print(str.strip()) #delete all the leading and trailing spaces\n",
    "\n",
    "print(str.replace('sulagna','lana')) #replace the substring with a new substring in the string.\n",
    "\n",
    "print(str.center(100)) #center align the string, using a specified character\n",
    "\n",
    "print(str.title()) #returns a string where the first character in every word is upper case."
   ]
  },
  {
   "cell_type": "markdown",
   "id": "488bd556",
   "metadata": {},
   "source": [
    "**Q2. Explore append, pop, remove, sort methods of list data type**"
   ]
  },
  {
   "cell_type": "code",
   "execution_count": 15,
   "id": "5ccc60ce",
   "metadata": {},
   "outputs": [
    {
     "name": "stdout",
     "output_type": "stream",
     "text": [
      "[31, 19, 26, 27, 16, 29]\n",
      "[31, 19, 26, 27, 16]\n",
      "[31, 19, 26, 16]\n",
      "[16, 19, 26, 31]\n"
     ]
    }
   ],
   "source": [
    "data = [31, 19, 26, 27, 16]\n",
    "\n",
    "data.append(29) #add item from the last\n",
    "print(data)\n",
    "\n",
    "data.pop() #delete item from the last\n",
    "print(data)\n",
    "\n",
    "data.remove(27) #remove the matching item from the list\n",
    "print(data)\n",
    "\n",
    "data.sort() #arrange item in ascending or descending order\n",
    "print(data)"
   ]
  },
  {
   "cell_type": "markdown",
   "id": "85fcfb1c",
   "metadata": {},
   "source": [
    "**Q3. Create 5 real time list to store some useful information in python.** Eg -> Language = [ ‘java’, ‘c’, ‘c++’, ‘ruby’ ]\n",
    "\n",
    "     1. name = ['ram', 'shyam', 'satyam', 'bonnie']\n",
    "     2. stream = ['CSE', 'IT', 'electrical', 'civil']\n",
    "     3. fruit = ['mango', 'apple', 'watermelon', 'grape']\n",
    "     4. city = ['mumbai', 'dhanbad', 'bokaro', 'delhi']\n",
    "     5. subject = ['physics', 'chem', 'math', 'bio']"
   ]
  },
  {
   "cell_type": "markdown",
   "id": "1fbec825",
   "metadata": {},
   "source": [
    "**Q4. What is difference between mutable and immutable data types in python**\n",
    "\n",
    " An object whose internal state can be changed is called **Mutable data type**.\n",
    " \n",
    " **Immutable data type** doesn’t allow any change in the object once it has been created."
   ]
  },
  {
   "cell_type": "markdown",
   "id": "eff3b0c8",
   "metadata": {},
   "source": [
    "**Q5. What are identifiers, list rules of identifiers in python**\n",
    "\n",
    "        Identifiers are used to store an object of a data type class.\n",
    "        \n",
    " Rules for identifiers are:-\n",
    " * an identifier should not be a keyword.\n",
    " * an identifier should not start with a number.\n",
    " * an identifier should not contain any special character except _."
   ]
  }
 ],
 "metadata": {
  "kernelspec": {
   "display_name": "Python 3 (ipykernel)",
   "language": "python",
   "name": "python3"
  },
  "language_info": {
   "codemirror_mode": {
    "name": "ipython",
    "version": 3
   },
   "file_extension": ".py",
   "mimetype": "text/x-python",
   "name": "python",
   "nbconvert_exporter": "python",
   "pygments_lexer": "ipython3",
   "version": "3.10.9"
  }
 },
 "nbformat": 4,
 "nbformat_minor": 5
}
