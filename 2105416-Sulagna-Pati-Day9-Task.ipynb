{
 "cells": [
  {
   "cell_type": "code",
   "execution_count": null,
   "id": "b0b12f4e",
   "metadata": {},
   "outputs": [],
   "source": [
    "number = float(input(\"Enter a number: \"))\n",
    "\n",
    "if number < 0:\n",
    "    print(\"The number is negative.\")\n",
    "elif number > 0:\n",
    "    print(\"The number is positive.\")\n",
    "else:\n",
    "    print(\"The number is zero.\")\n"
   ]
  },
  {
   "cell_type": "code",
   "execution_count": 2,
   "id": "6fab91c4",
   "metadata": {},
   "outputs": [
    {
     "name": "stdout",
     "output_type": "stream",
     "text": [
      "Enter a number: 66\n",
      "The number is not divisible by both 5 and 11.\n"
     ]
    }
   ],
   "source": [
    "number = int(input(\"Enter a number: \"))\n",
    "\n",
    "if number % 5 == 0 and number % 11 == 0:\n",
    "    print(\"The number is divisible by both 5 and 11.\")\n",
    "else:\n",
    "    print(\"The number is not divisible by both 5 and 11.\")\n"
   ]
  },
  {
   "cell_type": "code",
   "execution_count": 3,
   "id": "c5145ab0",
   "metadata": {},
   "outputs": [
    {
     "name": "stdout",
     "output_type": "stream",
     "text": [
      "Enter a year: 2024\n",
      "The year is a leap year.\n"
     ]
    }
   ],
   "source": [
    "year = int(input(\"Enter a year: \"))\n",
    "\n",
    "if (year % 4 == 0 and year % 100 != 0) or (year % 400 == 0):\n",
    "    print(\"The year is a leap year.\")\n",
    "else:\n",
    "    print(\"The year is not a leap year.\")\n"
   ]
  },
  {
   "cell_type": "code",
   "execution_count": 4,
   "id": "942be4a7",
   "metadata": {},
   "outputs": [
    {
     "name": "stdout",
     "output_type": "stream",
     "text": [
      "Enter a character: 6\n",
      "The character is not an alphabet.\n"
     ]
    }
   ],
   "source": [
    "character = input(\"Enter a character: \")\n",
    "\n",
    "if character.isalpha():\n",
    "    print(\"The character is an alphabet.\")\n",
    "else:\n",
    "    print(\"The character is not an alphabet.\")\n"
   ]
  },
  {
   "cell_type": "code",
   "execution_count": 5,
   "id": "063d226f",
   "metadata": {},
   "outputs": [
    {
     "name": "stdout",
     "output_type": "stream",
     "text": [
      "Enter an alphabet: r\n",
      "The alphabet is a consonant.\n"
     ]
    }
   ],
   "source": [
    "alphabet = input(\"Enter an alphabet: \").lower()\n",
    "\n",
    "if alphabet.isalpha() and len(alphabet) == 1:\n",
    "    if alphabet in ['a', 'e', 'i', 'o', 'u']:\n",
    "        print(\"The alphabet is a vowel.\")\n",
    "    else:\n",
    "        print(\"The alphabet is a consonant.\")\n",
    "else:\n",
    "    print(\"Invalid input. Please enter a single alphabet.\")\n"
   ]
  },
  {
   "cell_type": "code",
   "execution_count": 6,
   "id": "1c3547f5",
   "metadata": {},
   "outputs": [
    {
     "name": "stdout",
     "output_type": "stream",
     "text": [
      "Enter a character: t\n",
      "The character is an alphabet.\n"
     ]
    }
   ],
   "source": [
    "character = input(\"Enter a character: \")\n",
    "\n",
    "if character.isalpha():\n",
    "    print(\"The character is an alphabet.\")\n",
    "elif character.isdigit():\n",
    "    print(\"The character is a digit.\")\n",
    "else:\n",
    "    print(\"The character is a special character.\")\n"
   ]
  },
  {
   "cell_type": "code",
   "execution_count": 7,
   "id": "4f33afbd",
   "metadata": {},
   "outputs": [
    {
     "name": "stdout",
     "output_type": "stream",
     "text": [
      "Enter a character: y\n",
      "The character is a lowercase alphabet.\n"
     ]
    }
   ],
   "source": [
    "character = input(\"Enter a character: \")\n",
    "\n",
    "if len(character) == 1 and character.isalpha():\n",
    "    if character.islower():\n",
    "        print(\"The character is a lowercase alphabet.\")\n",
    "    else:\n",
    "        print(\"The character is an uppercase alphabet.\")\n",
    "else:\n",
    "    print(\"Invalid input. Please enter a single alphabet.\")\n"
   ]
  },
  {
   "cell_type": "code",
   "execution_count": 8,
   "id": "fdc1a3af",
   "metadata": {},
   "outputs": [
    {
     "name": "stdout",
     "output_type": "stream",
     "text": [
      "Enter a week number (1-7): 6\n",
      "Saturday\n"
     ]
    }
   ],
   "source": [
    "week_number = int(input(\"Enter a week number (1-7): \"))\n",
    "\n",
    "if week_number == 1:\n",
    "    print(\"Monday\")\n",
    "elif week_number == 2:\n",
    "    print(\"Tuesday\")\n",
    "elif week_number == 3:\n",
    "    print(\"Wednesday\")\n",
    "elif week_number == 4:\n",
    "    print(\"Thursday\")\n",
    "elif week_number == 5:\n",
    "    print(\"Friday\")\n",
    "elif week_number == 6:\n",
    "    print(\"Saturday\")\n",
    "elif week_number == 7:\n",
    "    print(\"Sunday\")\n",
    "else:\n",
    "    print(\"Invalid week number. Please enter a number between 1 and 7.\")\n"
   ]
  },
  {
   "cell_type": "code",
   "execution_count": 9,
   "id": "bf9baf55",
   "metadata": {},
   "outputs": [
    {
     "name": "stdout",
     "output_type": "stream",
     "text": [
      "Enter the first angle of the triangle: 60\n",
      "Enter the second angle of the triangle: 50\n",
      "Enter the third angle of the triangle: 70\n",
      "The triangle is valid.\n"
     ]
    }
   ],
   "source": [
    "angle1 = float(input(\"Enter the first angle of the triangle: \"))\n",
    "angle2 = float(input(\"Enter the second angle of the triangle: \"))\n",
    "angle3 = float(input(\"Enter the third angle of the triangle: \"))\n",
    "\n",
    "# Check if the sum of angles is 180 degrees\n",
    "if angle1 + angle2 + angle3 == 180:\n",
    "    print(\"The triangle is valid.\")\n",
    "else:\n",
    "    print(\"The triangle is not valid.\")\n"
   ]
  },
  {
   "cell_type": "code",
   "execution_count": 10,
   "id": "ea4b09be",
   "metadata": {},
   "outputs": [
    {
     "name": "stdout",
     "output_type": "stream",
     "text": [
      "Enter the length of the first side of the triangle: 6\n",
      "Enter the length of the second side of the triangle: 8\n",
      "Enter the length of the third side of the triangle: 7\n",
      "The triangle is valid.\n"
     ]
    }
   ],
   "source": [
    "side1 = float(input(\"Enter the length of the first side of the triangle: \"))\n",
    "side2 = float(input(\"Enter the length of the second side of the triangle: \"))\n",
    "side3 = float(input(\"Enter the length of the third side of the triangle: \"))\n",
    "\n",
    "# Check the triangle inequality condition\n",
    "if side1 + side2 > side3 and side2 + side3 > side1 and side3 + side1 > side2:\n",
    "    print(\"The triangle is valid.\")\n",
    "else:\n",
    "    print(\"The triangle is not valid.\")\n"
   ]
  },
  {
   "cell_type": "code",
   "execution_count": 11,
   "id": "4d005e70",
   "metadata": {},
   "outputs": [
    {
     "name": "stdout",
     "output_type": "stream",
     "text": [
      "Enter the length of the first side of the triangle: 7\n",
      "Enter the length of the second side of the triangle: 5\n",
      "Enter the length of the third side of the triangle: 3\n",
      "The triangle is a scalene triangle.\n"
     ]
    }
   ],
   "source": [
    "side1 = float(input(\"Enter the length of the first side of the triangle: \"))\n",
    "side2 = float(input(\"Enter the length of the second side of the triangle: \"))\n",
    "side3 = float(input(\"Enter the length of the third side of the triangle: \"))\n",
    "\n",
    "if side1 == side2 == side3:\n",
    "    print(\"The triangle is an equilateral triangle.\")\n",
    "elif side1 == side2 or side2 == side3 or side3 == side1:\n",
    "    print(\"The triangle is an isosceles triangle.\")\n",
    "else:\n",
    "    print(\"The triangle is a scalene triangle.\")\n"
   ]
  },
  {
   "cell_type": "code",
   "execution_count": 12,
   "id": "de9eedda",
   "metadata": {},
   "outputs": [
    {
     "name": "stdout",
     "output_type": "stream",
     "text": [
      "Enter marks obtained in Physics: 67\n",
      "Enter marks obtained in Chemistry: 78\n",
      "Enter marks obtained in Biology: 88\n",
      "Enter marks obtained in Mathematics: 90\n",
      "Enter marks obtained in Computer: 97\n",
      "Percentage: 84.00%\n",
      "Grade: B\n"
     ]
    }
   ],
   "source": [
    "physics = float(input(\"Enter marks obtained in Physics: \"))\n",
    "chemistry = float(input(\"Enter marks obtained in Chemistry: \"))\n",
    "biology = float(input(\"Enter marks obtained in Biology: \"))\n",
    "mathematics = float(input(\"Enter marks obtained in Mathematics: \"))\n",
    "computer = float(input(\"Enter marks obtained in Computer: \"))\n",
    "\n",
    "total_marks = 500\n",
    "marks_obtained = physics + chemistry + biology + mathematics + computer\n",
    "percentage = (marks_obtained / total_marks) * 100\n",
    "\n",
    "print(\"Percentage: {:.2f}%\".format(percentage))\n",
    "\n",
    "if percentage >= 90:\n",
    "    grade = \"A\"\n",
    "elif percentage >= 80:\n",
    "    grade = \"B\"\n",
    "elif percentage >= 70:\n",
    "    grade = \"C\"\n",
    "elif percentage >= 60:\n",
    "    grade = \"D\"\n",
    "elif percentage >= 40:\n",
    "    grade = \"E\"\n",
    "else:\n",
    "    grade = \"F\"\n",
    "\n",
    "print(\"Grade:\", grade)\n"
   ]
  },
  {
   "cell_type": "code",
   "execution_count": 13,
   "id": "b06f5522",
   "metadata": {},
   "outputs": [
    {
     "name": "stdout",
     "output_type": "stream",
     "text": [
      "Enter the basic salary of the employee: 67000\n",
      "Gross Salary: 150750.0\n"
     ]
    }
   ],
   "source": [
    "basic_salary = float(input(\"Enter the basic salary of the employee: \"))\n",
    "\n",
    "if basic_salary <= 10000:\n",
    "    hra_percentage = 20\n",
    "    da_percentage = 80\n",
    "elif basic_salary <= 20000:\n",
    "    hra_percentage = 25\n",
    "    da_percentage = 90\n",
    "else:\n",
    "    hra_percentage = 30\n",
    "    da_percentage = 95\n",
    "\n",
    "hra = (hra_percentage / 100) * basic_salary\n",
    "da = (da_percentage / 100) * basic_salary\n",
    "\n",
    "gross_salary = basic_salary + hra + da\n",
    "\n",
    "print(\"Gross Salary:\", gross_salary)\n"
   ]
  },
  {
   "cell_type": "code",
   "execution_count": 14,
   "id": "7a8fcec4",
   "metadata": {},
   "outputs": [
    {
     "name": "stdout",
     "output_type": "stream",
     "text": [
      "Enter the electricity unit charges: 78000\n",
      "Total Units: 250\n",
      "Total Bill Amount: Rs. 140100.0\n"
     ]
    }
   ],
   "source": [
    "unit_charges = float(input(\"Enter the electricity unit charges: \"))\n",
    "\n",
    "total_units = 0\n",
    "bill_amount = 0\n",
    "\n",
    "if unit_charges <= 50:\n",
    "    total_units = unit_charges\n",
    "    bill_amount = total_units * 0.50\n",
    "elif unit_charges <= 150:\n",
    "    total_units = 50\n",
    "    bill_amount = total_units * 0.50\n",
    "    remaining_units = unit_charges - total_units\n",
    "    bill_amount += remaining_units * 0.75\n",
    "elif unit_charges <= 250:\n",
    "    total_units = 150\n",
    "    bill_amount = total_units * 0.50\n",
    "    remaining_units = unit_charges - total_units\n",
    "    bill_amount += remaining_units * 1.20\n",
    "else:\n",
    "    total_units = 250\n",
    "    bill_amount = total_units * 0.50\n",
    "    remaining_units = unit_charges - total_units\n",
    "    bill_amount += remaining_units * 1.50\n",
    "\n",
    "surcharge = bill_amount * 0.20\n",
    "total_bill = bill_amount + surcharge\n",
    "\n",
    "print(\"Total Units:\", total_units)\n",
    "print(\"Total Bill Amount: Rs.\", total_bill)\n"
   ]
  }
 ],
 "metadata": {
  "kernelspec": {
   "display_name": "Python 3 (ipykernel)",
   "language": "python",
   "name": "python3"
  },
  "language_info": {
   "codemirror_mode": {
    "name": "ipython",
    "version": 3
   },
   "file_extension": ".py",
   "mimetype": "text/x-python",
   "name": "python",
   "nbconvert_exporter": "python",
   "pygments_lexer": "ipython3",
   "version": "3.10.9"
  }
 },
 "nbformat": 4,
 "nbformat_minor": 5
}
