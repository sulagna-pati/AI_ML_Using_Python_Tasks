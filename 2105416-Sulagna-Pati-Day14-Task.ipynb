{
 "cells": [
  {
   "cell_type": "code",
   "execution_count": null,
   "id": "41c4fc5f",
   "metadata": {},
   "outputs": [],
   "source": [
    "def sum_of_digits(num):\n",
    "    while num > 9:  # Keep looping until the sum is reduced to a single digit\n",
    "        digit_sum = 0\n",
    "        while num > 0:\n",
    "            digit_sum += num % 10  # Add the last digit to the sum\n",
    "            num //= 10  # Remove the last digit from the number\n",
    "        num = digit_sum  # Update the number with the sum of digits\n",
    "    return num\n",
    "\n",
    "# Example usage\n",
    "number = int(input(\"Enter a number: \"))\n",
    "result = sum_of_digits(number)\n",
    "print(\"Sum of digits:\", result)\n"
   ]
  },
  {
   "cell_type": "code",
   "execution_count": 3,
   "id": "d4ab683f",
   "metadata": {},
   "outputs": [
    {
     "name": "stdout",
     "output_type": "stream",
     "text": [
      "Enter the first number: 5\n",
      "Enter the second number: 9\n",
      "LCM: 45\n",
      "HCF: 1\n"
     ]
    }
   ],
   "source": [
    "def calculate_lcm(x, y):\n",
    "    # Find the maximum of the two numbers\n",
    "    maximum = max(x, y)\n",
    "\n",
    "    # Loop through multiples of the maximum until a common multiple is found\n",
    "    while True:\n",
    "        if maximum % x == 0 and maximum % y == 0:\n",
    "            lcm = maximum\n",
    "            break\n",
    "        maximum += 1\n",
    "\n",
    "    return lcm\n",
    "\n",
    "def calculate_hcf(x, y):\n",
    "    # Find the minimum of the two numbers\n",
    "    minimum = min(x, y)\n",
    "\n",
    "    # Loop from the minimum towards 1 and find the first common factor\n",
    "    for i in range(minimum, 0, -1):\n",
    "        if x % i == 0 and y % i == 0:\n",
    "            hcf = i\n",
    "            break\n",
    "\n",
    "    return hcf\n",
    "\n",
    "# Example usage\n",
    "num1 = int(input(\"Enter the first number: \"))\n",
    "num2 = int(input(\"Enter the second number: \"))\n",
    "\n",
    "lcm = calculate_lcm(num1, num2)\n",
    "hcf = calculate_hcf(num1, num2)\n",
    "\n",
    "print(\"LCM:\", lcm)\n",
    "print(\"HCF:\", hcf)\n"
   ]
  },
  {
   "cell_type": "code",
   "execution_count": 4,
   "id": "ac5b9441",
   "metadata": {},
   "outputs": [
    {
     "name": "stdout",
     "output_type": "stream",
     "text": [
      "Enter a number: 6\n",
      "The cube of 3 is 27\n",
      "The cube of 6 is 216\n"
     ]
    }
   ],
   "source": [
    "def print_cube_divisible_by_three(n):\n",
    "    for i in range(1, n+1):\n",
    "        if i % 3 == 0:\n",
    "            cube = i ** 3\n",
    "            print(f\"The cube of {i} is {cube}\")\n",
    "\n",
    "# Example usage\n",
    "number = int(input(\"Enter a number: \"))\n",
    "print_cube_divisible_by_three(number)\n"
   ]
  },
  {
   "cell_type": "code",
   "execution_count": 5,
   "id": "338930e5",
   "metadata": {},
   "outputs": [
    {
     "name": "stdout",
     "output_type": "stream",
     "text": [
      "Enter a number: 6\n",
      "The cube of 3 is 27\n",
      "The cube of 6 is 216\n"
     ]
    }
   ],
   "source": [
    "def print_cube_divisible_by_three(n):\n",
    "    for i in range(1, n+1):\n",
    "        if i % 3 != 0:\n",
    "            continue\n",
    "        cube = i ** 3\n",
    "        print(f\"The cube of {i} is {cube}\")\n",
    "\n",
    "# Example usage\n",
    "number = int(input(\"Enter a number: \"))\n",
    "print_cube_divisible_by_three(number)\n"
   ]
  },
  {
   "cell_type": "code",
   "execution_count": 6,
   "id": "e969e931",
   "metadata": {},
   "outputs": [
    {
     "name": "stdout",
     "output_type": "stream",
     "text": [
      "\n",
      "Student 1:\n",
      "Enter roll number (1000-9999): 5467\n",
      "Enter marks for subject 1: 99\n",
      "Enter marks for subject 2: 88\n",
      "Enter marks for subject 3: 96\n",
      "\n",
      "Student 2:\n",
      "Enter roll number (1000-9999): 3432\n",
      "Enter marks for subject 1: 78\n",
      "Enter marks for subject 2: 99\n",
      "Enter marks for subject 3: 23\n",
      "\n",
      "Student 3:\n",
      "Enter roll number (1000-9999): 4482\n",
      "Enter marks for subject 1: 89\n",
      "Enter marks for subject 2: 88\n",
      "Enter marks for subject 3: 66\n",
      "\n",
      "Student 4:\n",
      "Enter roll number (1000-9999): 7868\n",
      "Enter marks for subject 1: 32\n",
      "Enter marks for subject 2: 78\n",
      "Enter marks for subject 3: 87\n",
      "\n",
      "Student 5:\n",
      "Enter roll number (1000-9999): 9663\n",
      "Enter marks for subject 1: 73\n",
      "Enter marks for subject 2: 45\n",
      "Enter marks for subject 3: 28\n",
      "\n",
      "Student 6:\n",
      "Enter roll number (1000-9999): 8245\n",
      "Enter marks for subject 1: 35\n",
      "Enter marks for subject 2: 26\n",
      "Enter marks for subject 3: 76\n",
      "\n",
      "Student 7:\n",
      "Enter roll number (1000-9999): 3521\n",
      "Enter marks for subject 1: 98\n",
      "Enter marks for subject 2: 45\n",
      "Enter marks for subject 3: 78\n",
      "\n",
      "Student 8:\n",
      "Enter roll number (1000-9999): 8321\n",
      "Enter marks for subject 1: 63\n",
      "Enter marks for subject 2: 42\n",
      "Enter marks for subject 3: 87\n",
      "\n",
      "Student 9:\n",
      "Enter roll number (1000-9999): 2311\n",
      "Enter marks for subject 1: 75\n",
      "Enter marks for subject 2: 89\n",
      "Enter marks for subject 3: 24\n",
      "\n",
      "Student 10:\n",
      "Enter roll number (1000-9999): 1437\n",
      "Enter marks for subject 1: 32\n",
      "Enter marks for subject 2: 62\n",
      "Enter marks for subject 3: 85\n",
      "\n",
      "Results:\n",
      "Number of students with total marks > 200: 3\n",
      "Roll number of the student with highest total marks: 5467\n"
     ]
    }
   ],
   "source": [
    "def get_valid_roll_number():\n",
    "    while True:\n",
    "        roll_number = int(input(\"Enter roll number (1000-9999): \"))\n",
    "        if roll_number >= 1000 and roll_number <= 9999:\n",
    "            return roll_number\n",
    "        else:\n",
    "            print(\"Invalid roll number. Please enter again.\")\n",
    "\n",
    "def calculate_total_marks(marks):\n",
    "    total = 0\n",
    "    for subject in marks:\n",
    "        if subject >= 40:\n",
    "            total += subject\n",
    "        else:\n",
    "            return 0\n",
    "    return total\n",
    "\n",
    "# Read roll number and marks for 10 students\n",
    "students = []\n",
    "for i in range(10):\n",
    "    print(f\"\\nStudent {i+1}:\")\n",
    "    roll_number = get_valid_roll_number()\n",
    "    marks = []\n",
    "    for j in range(3):\n",
    "        marks.append(int(input(f\"Enter marks for subject {j+1}: \")))\n",
    "    students.append((roll_number, marks))\n",
    "\n",
    "# Calculate total marks and count students with total more than 200\n",
    "count = 0\n",
    "highest_total = 0\n",
    "highest_roll_number = None\n",
    "for roll_number, marks in students:\n",
    "    total = calculate_total_marks(marks)\n",
    "    if total > 200:\n",
    "        count += 1\n",
    "    if total > highest_total:\n",
    "        highest_total = total\n",
    "        highest_roll_number = roll_number\n",
    "\n",
    "# Print the results\n",
    "print(\"\\nResults:\")\n",
    "print(\"Number of students with total marks > 200:\", count)\n",
    "print(\"Roll number of the student with highest total marks:\", highest_roll_number)\n"
   ]
  },
  {
   "cell_type": "code",
   "execution_count": 7,
   "id": "88e674a9",
   "metadata": {},
   "outputs": [
    {
     "name": "stdout",
     "output_type": "stream",
     "text": [
      "Enter a number: 689\n",
      "Number of digits: 3\n"
     ]
    }
   ],
   "source": [
    "number = int(input(\"Enter a number: \"))\n",
    "\n",
    "# Handle the special case of 0\n",
    "if number == 0:\n",
    "    count = 1\n",
    "else:\n",
    "    count = 0\n",
    "\n",
    "# Count the digits using a while loop\n",
    "while number != 0:\n",
    "    number //= 10  # Divide the number by 10 to remove the last digit\n",
    "    count += 1\n",
    "\n",
    "print(\"Number of digits:\", count)\n"
   ]
  },
  {
   "cell_type": "code",
   "execution_count": 8,
   "id": "48ebecb9",
   "metadata": {},
   "outputs": [
    {
     "name": "stdout",
     "output_type": "stream",
     "text": [
      "Enter a number: 467\n",
      "Reverse number: 764\n",
      "Double of the reverse number: 1528\n"
     ]
    }
   ],
   "source": [
    "number = int(input(\"Enter a number: \"))\n",
    "\n",
    "reverse = 0\n",
    "temp = number\n",
    "\n",
    "# Find the reverse of the number\n",
    "while temp != 0:\n",
    "    digit = temp % 10\n",
    "    reverse = (reverse * 10) + digit\n",
    "    temp //= 10\n",
    "\n",
    "# Calculate the double of the reverse number\n",
    "double_reverse = reverse * 2\n",
    "\n",
    "print(\"Reverse number:\", reverse)\n",
    "print(\"Double of the reverse number:\", double_reverse)\n"
   ]
  },
  {
   "cell_type": "code",
   "execution_count": null,
   "id": "6e906e58",
   "metadata": {},
   "outputs": [],
   "source": []
  }
 ],
 "metadata": {
  "kernelspec": {
   "display_name": "Python 3 (ipykernel)",
   "language": "python",
   "name": "python3"
  },
  "language_info": {
   "codemirror_mode": {
    "name": "ipython",
    "version": 3
   },
   "file_extension": ".py",
   "mimetype": "text/x-python",
   "name": "python",
   "nbconvert_exporter": "python",
   "pygments_lexer": "ipython3",
   "version": "3.10.9"
  }
 },
 "nbformat": 4,
 "nbformat_minor": 5
}
