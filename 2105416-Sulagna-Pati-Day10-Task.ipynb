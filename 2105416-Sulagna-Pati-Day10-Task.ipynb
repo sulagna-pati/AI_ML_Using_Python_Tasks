{
 "cells": [
  {
   "cell_type": "code",
   "execution_count": 1,
   "id": "5cecc303",
   "metadata": {},
   "outputs": [
    {
     "name": "stdout",
     "output_type": "stream",
     "text": [
      "Enter a number: 56165\n",
      "The number is a palindrome.\n"
     ]
    }
   ],
   "source": [
    "number = int(input(\"Enter a number: \"))\n",
    "\n",
    "# Convert the number to a string for comparison\n",
    "number_str = str(number)\n",
    "\n",
    "# Reverse the string\n",
    "reverse_str = number_str[::-1]\n",
    "\n",
    "if number_str == reverse_str:\n",
    "    print(\"The number is a palindrome.\")\n",
    "else:\n",
    "    print(\"The number is not a palindrome.\")\n"
   ]
  },
  {
   "cell_type": "code",
   "execution_count": 2,
   "id": "5041c870",
   "metadata": {},
   "outputs": [
    {
     "name": "stdout",
     "output_type": "stream",
     "text": [
      "Enter the start of the interval: 10\n",
      "Enter the end of the interval: 90\n",
      "Multiples of 3 and 5 in the interval [10, 90]:\n",
      "10\n",
      "12\n",
      "15\n",
      "18\n",
      "20\n",
      "21\n",
      "24\n",
      "25\n",
      "27\n",
      "30\n",
      "33\n",
      "35\n",
      "36\n",
      "39\n",
      "40\n",
      "42\n",
      "45\n",
      "48\n",
      "50\n",
      "51\n",
      "54\n",
      "55\n",
      "57\n",
      "60\n",
      "63\n",
      "65\n",
      "66\n",
      "69\n",
      "70\n",
      "72\n",
      "75\n",
      "78\n",
      "80\n",
      "81\n",
      "84\n",
      "85\n",
      "87\n",
      "90\n"
     ]
    }
   ],
   "source": [
    "start = int(input(\"Enter the start of the interval: \"))\n",
    "end = int(input(\"Enter the end of the interval: \"))\n",
    "\n",
    "print(\"Multiples of 3 and 5 in the interval [{}, {}]:\".format(start, end))\n",
    "for num in range(start, end + 1):\n",
    "    if num % 3 == 0 or num % 5 == 0:\n",
    "        print(num)\n"
   ]
  },
  {
   "cell_type": "code",
   "execution_count": 4,
   "id": "193adaae",
   "metadata": {},
   "outputs": [
    {
     "name": "stdout",
     "output_type": "stream",
     "text": [
      "Enter a number: 5\n",
      "The factorial of 5 is 120.\n"
     ]
    }
   ],
   "source": [
    "number = int(input(\"Enter a number: \"))\n",
    "\n",
    "factorial = 1\n",
    "\n",
    "# Check if the number is negative, zero, or positive\n",
    "if number < 0:\n",
    "    print(\"Factorial is not defined for negative numbers.\")\n",
    "elif number == 0:\n",
    "    print(\"The factorial of 0 is 1.\")\n",
    "else:\n",
    "    for i in range(1, number + 1):\n",
    "        factorial *= i\n",
    "\n",
    "    print(\"The factorial of {} is {}.\".format(number, factorial))\n"
   ]
  },
  {
   "cell_type": "code",
   "execution_count": 5,
   "id": "73329738",
   "metadata": {},
   "outputs": [
    {
     "name": "stdout",
     "output_type": "stream",
     "text": [
      "Enter the number of terms: 6\n",
      "Fibonacci sequence up to 6 terms:\n",
      "0 1 1 2 3 5 "
     ]
    }
   ],
   "source": [
    "terms = int(input(\"Enter the number of terms: \"))\n",
    "\n",
    "# First two terms of the Fibonacci sequence\n",
    "a, b = 0, 1\n",
    "\n",
    "if terms <= 0:\n",
    "    print(\"Please enter a positive integer.\")\n",
    "elif terms == 1:\n",
    "    print(\"Fibonacci sequence up to\", terms, \"term:\")\n",
    "    print(a)\n",
    "else:\n",
    "    print(\"Fibonacci sequence up to\", terms, \"terms:\")\n",
    "    print(a, b, end=\" \")\n",
    "    for _ in range(2, terms):\n",
    "        c = a + b\n",
    "        print(c, end=\" \")\n",
    "        a = b\n",
    "        b = c\n"
   ]
  },
  {
   "cell_type": "code",
   "execution_count": 6,
   "id": "5f5dd5d3",
   "metadata": {},
   "outputs": [
    {
     "name": "stdout",
     "output_type": "stream",
     "text": [
      "Enter a number: 57\n",
      "57 is not an Armstrong number.\n"
     ]
    }
   ],
   "source": [
    "number = int(input(\"Enter a number: \"))\n",
    "\n",
    "# Calculate the number of digits in the number\n",
    "num_digits = len(str(number))\n",
    "\n",
    "# Initialize the sum variable\n",
    "sum = 0\n",
    "\n",
    "# Temporary variable to store the original number\n",
    "temp = number\n",
    "\n",
    "# Calculate the sum of the cubes of each digit\n",
    "while temp > 0:\n",
    "    digit = temp % 10\n",
    "    sum += digit ** num_digits\n",
    "    temp //= 10\n",
    "\n",
    "# Check if the number is an Armstrong number\n",
    "if number == sum:\n",
    "    print(number, \"is an Armstrong number.\")\n",
    "else:\n",
    "    print(number, \"is not an Armstrong number.\")\n"
   ]
  }
 ],
 "metadata": {
  "kernelspec": {
   "display_name": "Python 3 (ipykernel)",
   "language": "python",
   "name": "python3"
  },
  "language_info": {
   "codemirror_mode": {
    "name": "ipython",
    "version": 3
   },
   "file_extension": ".py",
   "mimetype": "text/x-python",
   "name": "python",
   "nbconvert_exporter": "python",
   "pygments_lexer": "ipython3",
   "version": "3.10.9"
  }
 },
 "nbformat": 4,
 "nbformat_minor": 5
}
