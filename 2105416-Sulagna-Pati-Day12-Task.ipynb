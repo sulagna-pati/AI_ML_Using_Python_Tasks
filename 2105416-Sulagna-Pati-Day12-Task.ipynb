{
 "cells": [
  {
   "cell_type": "markdown",
   "id": "30251fbf",
   "metadata": {},
   "source": [
    "## Task- 12 Loop Question"
   ]
  },
  {
   "cell_type": "markdown",
   "id": "b73993e0",
   "metadata": {},
   "source": [
    "**Q1. Write a code to implement Guess Game Guess Game**\n",
    "\n",
    "* Constraints / Rules :\n",
    "1. You have 5 chance to guess correct number which is choosen by computer.\n",
    "2. Range which is allowed to select a number 1-50.\n",
    "3. After each guess you should give some tips / hints to user to improve their chance of winning.\n",
    "4. For example: \n",
    "     * if user guess a number which is higher than actual number you should say : ***hint: think a low number!***\n",
    "     * if user guess a number which is lower than actual number you should say: ***hint: think a big number!***\n",
    "      \n",
    "5. if user wins we will show a congrats messege and stop our game\n",
    "6. if any time user guess is out of limit than print a warning message saying Think in Limits 1-50 only!, but we do not count this as a chance\n"
   ]
  },
  {
   "cell_type": "code",
   "execution_count": 1,
   "id": "608dcf5c",
   "metadata": {},
   "outputs": [
    {
     "name": "stdout",
     "output_type": "stream",
     "text": [
      "Enter your choice: 34\n",
      "Hint: think a low number!\n",
      "Guesses left: 4\n",
      "Enter your choice: 25\n",
      "Hint: think a low number!\n",
      "Guesses left: 3\n",
      "Enter your choice: 15\n",
      "Hint: think a low number!\n",
      "Guesses left: 2\n",
      "Enter your choice: 10\n",
      "Hint: think a low number!\n",
      "Guesses left: 1\n",
      "Enter your choice: 5\n",
      "Hint: think a low number!\n",
      "Guesses left: 0\n",
      "Correct answrer:  3\n",
      "Better luck next time\n"
     ]
    }
   ],
   "source": [
    "i=5\n",
    "c=0\n",
    "import random\n",
    "n=random.randint(1,50)\n",
    "while i:\n",
    "    ch=int(input('Enter your choice: '))\n",
    "    if ch>50 or ch<1:\n",
    "        continue\n",
    "    if ch==n:\n",
    "        print('Correct answrer: ',n)\n",
    "        print('Congrats! you guessed right')\n",
    "        c=1\n",
    "        break\n",
    "    elif ch>n:\n",
    "        print('Hint: think a low number!')\n",
    "    elif ch<n:\n",
    "        print('Hint: think a high number!')\n",
    "    i=i-1\n",
    "    print(f'Guesses left: {i}')\n",
    "\n",
    "if c==0:\n",
    "    print('Correct answrer: ',n)\n",
    "    print('Better luck next time')"
   ]
  },
  {
   "cell_type": "markdown",
   "id": "090435c3",
   "metadata": {},
   "source": [
    "**Q2. Solve this problem https://www.hackerrank.com/challenges/list-comprehensions/problem**"
   ]
  },
  {
   "cell_type": "code",
   "execution_count": 8,
   "id": "c61e23ac",
   "metadata": {
    "scrolled": true
   },
   "outputs": [
    {
     "name": "stdout",
     "output_type": "stream",
     "text": [
      "X Dimensions of a cuboid: 1\n",
      "Y Dimensions of a cuboid: 2\n",
      "Z Dimensions of a cuboid: 3\n",
      "Sum of X, Y, Z not equal to: 2\n",
      "[[0, 0, 0], [0, 0, 1], [0, 0, 3], [0, 1, 0], [0, 1, 2], [0, 1, 3], [0, 2, 1], [0, 2, 2], [0, 2, 3], [1, 0, 0], [1, 0, 2], [1, 0, 3], [1, 1, 1], [1, 1, 2], [1, 1, 3], [1, 2, 0], [1, 2, 1], [1, 2, 2], [1, 2, 3]]\n"
     ]
    }
   ],
   "source": [
    "if __name__ == '__main__':\n",
    "    print('X Dimensions of a cuboid:', end=' ')\n",
    "    x = int(input())\n",
    "    print('Y Dimensions of a cuboid:', end=' ')\n",
    "    y = int(input())\n",
    "    print('Z Dimensions of a cuboid:', end=' ')\n",
    "    z = int(input())\n",
    "    print('Sum of X, Y, Z not equal to:', end=' ')\n",
    "    n = int(input())\n",
    "    out=[]\n",
    "    for i in range(x + 1): \n",
    "        for j in range(y + 1): \n",
    "            for m in range(z + 1): \n",
    "                if ((i + j + m) != n):\n",
    "                    out.append([i,j,m])      \n",
    "    print(out)"
   ]
  },
  {
   "cell_type": "markdown",
   "id": "e233f2c6",
   "metadata": {},
   "source": [
    "**Q3. Solve this problem https://www.hackerrank.com/challenges/python-lists/problem**"
   ]
  },
  {
   "cell_type": "code",
   "execution_count": null,
   "id": "11b1c4ef",
   "metadata": {},
   "outputs": [],
   "source": [
    "if __name__ == '__main__':\n",
    "    N = int(input())\n",
    "    ls = list()\n",
    "    while N>0:\n",
    "        N -=1\n",
    "        command = input().split()\n",
    "        if command[0] == \"insert\":\n",
    "            ls.insert(int(command[1]),int(command[2]))\n",
    "        elif command[0] == \"remove\":\n",
    "            ls.remove(int(command[1]))\n",
    "        elif command[0] == \"print\":\n",
    "            print(ls)\n",
    "        elif command[0] == \"sort\":\n",
    "            ls.sort()\n",
    "        elif command[0] == \"append\":\n",
    "            ls.append(int(command[1]))\n",
    "        elif command[0] == \"pop\":\n",
    "            ls.pop()\n",
    "        elif command[0] ==\"reverse\":\n",
    "            ls = ls[::-1]\n",
    "        else:\n",
    "            pass"
   ]
  },
  {
   "cell_type": "markdown",
   "id": "134443a1",
   "metadata": {},
   "source": [
    "**Q4. Solve this problem https://www.hackerrank.com/challenges/finding-the-percentage/problem**"
   ]
  },
  {
   "cell_type": "code",
   "execution_count": null,
   "id": "ae9e9efb",
   "metadata": {},
   "outputs": [],
   "source": [
    "if __name__ == '__main__':\n",
    "    n = int(input())\n",
    "    student_marks = {}\n",
    "    for _ in range(n):\n",
    "        name, *line = input().split()\n",
    "        scores = list(map(float, line))\n",
    "        student_marks[name] = scores\n",
    "    query_name = input()\n",
    "    l1 = list(student_marks[query_name]) \n",
    "    addition = sum(l1)\n",
    "    result = addition/len(l1)\n",
    "    print('%.2f'% result)"
   ]
  },
  {
   "cell_type": "markdown",
   "id": "be0bb7e5",
   "metadata": {},
   "source": [
    "**Q5. Write a program to sort a list without using inbuilt functions (list.sort not allowed)**"
   ]
  },
  {
   "cell_type": "markdown",
   "id": "de120510",
   "metadata": {},
   "source": [
    "* Using Bubble Sort Algorithm"
   ]
  },
  {
   "cell_type": "code",
   "execution_count": 18,
   "id": "6ae0b388",
   "metadata": {},
   "outputs": [
    {
     "name": "stdout",
     "output_type": "stream",
     "text": [
      "Array before sorting:  [56, 23, 10, 45]\n",
      "Array after sorting:  [10, 23, 45, 56]\n"
     ]
    }
   ],
   "source": [
    "arr=[56,23,10,45]\n",
    "print('Array before sorting: ',arr)\n",
    "for i in range(0,len(arr)):\n",
    "    for j in range(0,len(arr)-1-i):\n",
    "        if arr[j]>arr[j+1]:\n",
    "            temp=arr[j]\n",
    "            arr[j]=arr[j+1]\n",
    "            arr[j+1]=temp\n",
    "print('Array after sorting: ',arr)"
   ]
  },
  {
   "cell_type": "markdown",
   "id": "0bdc1f82",
   "metadata": {},
   "source": [
    "* Using Insertion Sort Algorithm"
   ]
  },
  {
   "cell_type": "code",
   "execution_count": 19,
   "id": "261b4bb0",
   "metadata": {},
   "outputs": [
    {
     "name": "stdout",
     "output_type": "stream",
     "text": [
      "Array before sorting:  [56, 23, 10, 45]\n",
      "Array after sorting:  [10, 23, 45, 56]\n"
     ]
    }
   ],
   "source": [
    "arr=[56,23,10,45]\n",
    "print('Array before sorting: ',arr)\n",
    "for i in range(1,len(arr)):\n",
    "    k=arr[i]\n",
    "    j=i-1\n",
    "    while j>=0 and k<arr[j]:\n",
    "        arr[j+1]=arr[j]\n",
    "        j-=1\n",
    "    arr[j+1]=k\n",
    "print('Array after sorting: ',arr)"
   ]
  },
  {
   "cell_type": "markdown",
   "id": "d92ddc49",
   "metadata": {},
   "source": [
    "* Using Selection Sort Algorithm"
   ]
  },
  {
   "cell_type": "code",
   "execution_count": 20,
   "id": "a16b7946",
   "metadata": {},
   "outputs": [
    {
     "name": "stdout",
     "output_type": "stream",
     "text": [
      "Array before sorting:  [56, 23, 10, 45]\n",
      "Array after sorting:  [10, 23, 45, 56]\n"
     ]
    }
   ],
   "source": [
    "arr=[56,23,10,45]\n",
    "print('Array before sorting: ',arr)\n",
    "for i in range(0,len(arr)-1):\n",
    "    for j in range(i+1,len(arr)):\n",
    "        if arr[i]>arr[j]:\n",
    "            temp=arr[i]\n",
    "            arr[i]=arr[j]\n",
    "            arr[j]=temp\n",
    "print('Array after sorting: ',arr)"
   ]
  }
 ],
 "metadata": {
  "kernelspec": {
   "display_name": "Python 3 (ipykernel)",
   "language": "python",
   "name": "python3"
  },
  "language_info": {
   "codemirror_mode": {
    "name": "ipython",
    "version": 3
   },
   "file_extension": ".py",
   "mimetype": "text/x-python",
   "name": "python",
   "nbconvert_exporter": "python",
   "pygments_lexer": "ipython3",
   "version": "3.10.9"
  }
 },
 "nbformat": 4,
 "nbformat_minor": 5
}
