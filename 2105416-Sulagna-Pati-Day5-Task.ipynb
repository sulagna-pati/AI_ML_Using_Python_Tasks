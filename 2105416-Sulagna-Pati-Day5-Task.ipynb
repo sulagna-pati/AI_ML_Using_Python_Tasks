{
 "cells": [
  {
   "cell_type": "code",
   "execution_count": null,
   "id": "2f9578c8",
   "metadata": {},
   "outputs": [],
   "source": [
    "#In Python, the concepts of shallow copy and deep copy are related to creating copies of objects or data structures. Here's the difference between the two:\n",
    "\n",
    "#Shallow Copy:\n",
    "\n",
    "#A shallow copy creates a new object or data structure but references the same elements as the original.\n",
    "#Changes made to the original object can affect the shallow copy, and vice versa.\n",
    "#In a shallow copy, the outer structure is copied, but the elements inside are referenced.\n",
    "#It creates a new object, but the internal references of the new object still point to the same objects as the original.\n",
    "#Shallow copy can be performed using the copy() method or the [:] slicing operator.\n",
    "\n",
    "#Deep Copy:\n",
    "\n",
    "#A deep copy creates a new object or data structure and recursively copies all the elements from the original to the new copy.\n",
    "#Changes made to the original object do not affect the deep copy, and vice versa.\n",
    "#In a deep copy, both the outer structure and the elements inside are copied recursively to new objects.\n",
    "#It creates a completely independent copy of the original object, including all nested objects or elements.\n",
    "#Deep copy can be performed using the deepcopy() function from the copy module.\n",
    "#To summarize, a shallow copy creates a new object that references the same elements as the original, \n",
    "#while a deep copy creates a new object with completely independent copies of all the elements."
   ]
  },
  {
   "cell_type": "code",
   "execution_count": 1,
   "id": "8a71e138",
   "metadata": {},
   "outputs": [],
   "source": [
    "# List to store information about books\n",
    "books = [\n",
    "    {'title': 'Book 1', 'author': 'Author 1', 'isbn': 'ISBN 1'},\n",
    "    {'title': 'Book 2', 'author': 'Author 2', 'isbn': 'ISBN 2'},\n",
    "    {'title': 'Book 3', 'author': 'Author 3', 'isbn': 'ISBN 3'},\n",
    "    # Add more books as needed\n",
    "]\n",
    "\n",
    "# List to store information about students\n",
    "students = [\n",
    "    {'name': 'Student 1', 'id': 'ID 1', 'year': 1},\n",
    "    {'name': 'Student 2', 'id': 'ID 2', 'year': 2},\n",
    "    {'name': 'Student 3', 'id': 'ID 3', 'year': 3},\n",
    "    # Add more students as needed\n",
    "]\n"
   ]
  },
  {
   "cell_type": "code",
   "execution_count": null,
   "id": "ffdedd2f",
   "metadata": {},
   "outputs": [],
   "source": [
    "# the main difference between expressions and statements is that expressions produce a value, while statements perform an action or a set of actions.\n",
    "#Expressions are used within statements to compute values or determine conditions. Statements, on the other hand, control the flow of the program and define \n",
    "#the structure and behavior of the code."
   ]
  },
  {
   "cell_type": "code",
   "execution_count": null,
   "id": "be6ba3ef",
   "metadata": {},
   "outputs": [],
   "source": [
    "# atomic data types are the basic, predefined data types provided by the programming language, \n",
    "#whereas secondary data types are user-defined data types that are formed by combining atomic data types or using language constructs \n",
    "#to define custom data structures."
   ]
  },
  {
   "cell_type": "code",
   "execution_count": null,
   "id": "1e5c2a47",
   "metadata": {},
   "outputs": [],
   "source": [
    "#UDF stands for User-Defined Function. \n",
    "#A User-Defined Function is a way to define custom functions in a programming language that allows users to create their own functions with specific functionality to suit their needs. "
   ]
  }
 ],
 "metadata": {
  "kernelspec": {
   "display_name": "Python 3 (ipykernel)",
   "language": "python",
   "name": "python3"
  },
  "language_info": {
   "codemirror_mode": {
    "name": "ipython",
    "version": 3
   },
   "file_extension": ".py",
   "mimetype": "text/x-python",
   "name": "python",
   "nbconvert_exporter": "python",
   "pygments_lexer": "ipython3",
   "version": "3.10.9"
  }
 },
 "nbformat": 4,
 "nbformat_minor": 5
}
