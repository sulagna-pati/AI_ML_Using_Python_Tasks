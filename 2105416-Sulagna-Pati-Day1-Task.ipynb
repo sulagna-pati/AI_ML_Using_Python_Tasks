{
 "cells": [
  {
   "cell_type": "code",
   "execution_count": 1,
   "id": "34b4e40a",
   "metadata": {},
   "outputs": [
    {
     "ename": "SyntaxError",
     "evalue": "invalid character '“' (U+201C) (1792446605.py, line 1)",
     "output_type": "error",
     "traceback": [
      "\u001b[1;36m  Cell \u001b[1;32mIn[1], line 1\u001b[1;36m\u001b[0m\n\u001b[1;33m    print(“Hello World”)\u001b[0m\n\u001b[1;37m          ^\u001b[0m\n\u001b[1;31mSyntaxError\u001b[0m\u001b[1;31m:\u001b[0m invalid character '“' (U+201C)\n"
     ]
    }
   ],
   "source": [
    "print(“Hello World”) \n",
    "\n",
    "a = 45 \n",
    "\n",
    "b = 5 \n",
    "\n",
    "c = a+b \n",
    "\n",
    "print(“Sum is :”, c) "
   ]
  },
  {
   "cell_type": "code",
   "execution_count": 2,
   "id": "5370d962",
   "metadata": {},
   "outputs": [
    {
     "name": "stdout",
     "output_type": "stream",
     "text": [
      "Hello World\n",
      "Sum is : 50\n"
     ]
    }
   ],
   "source": [
    "print(\"Hello World\") \n",
    "a = 45 \n",
    "b = 5 \n",
    "c = a+b \n",
    "print(\"Sum is :\", c) "
   ]
  },
  {
   "cell_type": "code",
   "execution_count": null,
   "id": "86a53094",
   "metadata": {},
   "outputs": [],
   "source": []
  }
 ],
 "metadata": {
  "kernelspec": {
   "display_name": "Python 3 (ipykernel)",
   "language": "python",
   "name": "python3"
  },
  "language_info": {
   "codemirror_mode": {
    "name": "ipython",
    "version": 3
   },
   "file_extension": ".py",
   "mimetype": "text/x-python",
   "name": "python",
   "nbconvert_exporter": "python",
   "pygments_lexer": "ipython3",
   "version": "3.10.9"
  }
 },
 "nbformat": 4,
 "nbformat_minor": 5
}
